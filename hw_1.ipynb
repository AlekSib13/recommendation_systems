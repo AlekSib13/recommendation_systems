{
 "cells": [
  {
   "cell_type": "markdown",
   "metadata": {},
   "source": [
    "1. Сравните метрики hit_rate@k, precision@k.   \n",
    "Какую метрику использовать предпочтительно и почему?  \n",
    "Приведите пример 2-3 задач (опишите, что является клиентом, что товаром), в которой более уместно использовать метрику hit_rate?\n"
   ]
  },
  {
   "cell_type": "markdown",
   "metadata": {},
   "source": [
    "2. В метрике NDCG@k мы используем логарифм в знаменателе. Как Вы думаете, почему именно логарифм? Какую функцию можно использовать вместо логарифма? Привидите пример метрик/подходов к предобработке данных/функций ошибок в ML, где также в  логарифм.\n",
    "\n"
   ]
  },
  {
   "cell_type": "markdown",
   "metadata": {},
   "source": [
    "3. Какие еще метрики (Вы можете вспомнить уже пройденные Вами или посмотреть в интернете) могут использоваться для рекомендательных систем (приведите примеры метрики **и чем являются интеракции**, чтобы она могла быть использована)."
   ]
  },
  {
   "cell_type": "markdown",
   "metadata": {},
   "source": [
    "4. boughted = [1, 3, 5, 7, 9, 11]  \n",
    "recommended = [2, 5, 7, 4, 11, 9, 8, 10, 12, 3]  \n",
    "Посчитайте на этих данных pr@8, rec@8, AP@8, NDCG@8, MRR@8,  \n",
    "Сначала поссчитайет \"руками\", а затем подтвердите рассчеты с помощью функций (некоторые были на семинаре, некоторые нужно будут написать самостоятельно)\n",
    "\n",
    "IDCG должен считаться для всех 8 позиций рекомендаций"
   ]
  },
  {
   "cell_type": "markdown",
   "metadata": {},
   "source": [
    "**Пример выполнения 4го задания**\n",
    "\n",
    "MSE на  \n",
    "$y = [0, 2]$  \n",
    "$y_{pred} = [1, 2]$\n",
    "\n",
    "MSE = $0.5*((0 - 1)^2 + (2-2)^2) = 0.5$ "
   ]
  },
  {
   "cell_type": "code",
   "execution_count": 2,
   "metadata": {},
   "outputs": [
    {
     "data": {
      "text/plain": [
       "0.5"
      ]
     },
     "execution_count": 2,
     "metadata": {},
     "output_type": "execute_result"
    }
   ],
   "source": [
    "import numpy as np\n",
    "((np.array([0, 2]) - np.array([1, 2]))**2).mean()"
   ]
  },
  {
   "cell_type": "markdown",
   "metadata": {},
   "source": [
    "1. Сравните метрики hit_rate@k, precision@k.   \n",
    "Какую метрику использовать предпочтительно и почему?  \n",
    "Приведите пример 2-3 задач (опишите, что является клиентом, что товаром), в которой более уместно использовать метрику hit_rate?"
   ]
  },
  {
   "cell_type": "code",
   "execution_count": 1,
   "metadata": {},
   "outputs": [],
   "source": [
    "#Precision@k использовать предпочтительнее, поскольку precision@k дает понимание уровня качества нашей модели -  \n",
    "#мы понимаем % приобретенных товаров от общего количества рекомендованных, \n",
    "#в то время как hit_rate@k принимают значение только 0 или 1, таким образом, отвечая нам на вопрос: \n",
    "#\"сработала ли модель для конкретного пользователя?\" толька \"сработала или не сработала\"\n",
    "\n",
    "#Примеры задач, в которых уместнее использовать hit_rate:\n",
    "# 1. Рекомендация товара комплимента к приобретаемому товару. Основной товар - User, товар-коплимент - Item.  Например, заказываем пиццу и нам к ней рекомендуют напиток, гарнир (к примеру картошка), либо еще одну маленькую пиццу\n",
    "# 2. Рекомендации пользователей в социальных сетях на основе предпочтений пользователя. Пользователь серсиваса - User, рекомендуемый пользователь - Item. Например, по нашим интересам социальная сеть рекомендует - аккаунты домов моды, места развлечений, артистов прочее"
   ]
  },
  {
   "cell_type": "markdown",
   "metadata": {},
   "source": [
    "2. В метрике NDCG@k мы используем логарифм в знаменателе. Как Вы думаете, почему именно логарифм? Какую функцию можно использовать вместо логарифма? Привидите пример метрик/подходов к предобработке данных/функций ошибок в ML, где также в  логарифм."
   ]
  },
  {
   "cell_type": "code",
   "execution_count": 13,
   "metadata": {},
   "outputs": [
    {
     "data": {
      "text/plain": [
       "10"
      ]
     },
     "execution_count": 13,
     "metadata": {},
     "output_type": "execute_result"
    }
   ],
   "source": [
    "len(range(10))"
   ]
  },
  {
   "cell_type": "code",
   "execution_count": 15,
   "metadata": {},
   "outputs": [
    {
     "data": {
      "text/plain": [
       "[]"
      ]
     },
     "execution_count": 15,
     "metadata": {},
     "output_type": "execute_result"
    },
    {
     "data": {
      "image/png": "[encoded data removed]",
      "text/plain": [
       "<Figure size 432x288 with 1 Axes>"
      ]
     },
     "metadata": {
      "needs_background": "light"
     },
     "output_type": "display_data"
    }
   ],
   "source": [
    "#На графике изображено применение логарифмов, квадратного корня и натуральных чисел. \n",
    "#Применение того или иного подхода влияет на скорость убывания функции: от наименьшего убывания - логарифм - к наибольшему - натуральные числа.\n",
    "#В качестве альтернативы логарифму мы могли бы использовать квадратный корень\n",
    "\n",
    "plt.plot([i for i in range(1,11)],[1 if i==1 else 1/np.log2(i) for i in range(1,11)],color='blue')\n",
    "plt.plot([i for i in range(1,11)],[1 if i==1 else 1/np.sqrt(i) for i in range(1,11)],color='orange')\n",
    "plt.plot([i for i in range(1,11)],[1 if i==1 else 1/i for i in range(1,11)],color='red')\n",
    "plt.legend(['log','sqrt','linear'])\n",
    "plt.grid()\n",
    "plt.plot()"
   ]
  },
  {
   "cell_type": "markdown",
   "metadata": {},
   "source": [
    "4. boughted = [1, 3, 5, 7, 9, 11]  \n",
    "recommended = [2, 5, 7, 4, 11, 9, 8, 10, 12, 3]  \n",
    "Посчитайте на этих данных pr@8, rec@8, AP@8, NDCG@8, MRR@8,  \n",
    "Сначала поссчитайет \"руками\", а затем подтвердите рассчеты с помощью функций (некоторые были на семинаре, некоторые нужно будут написать самостоятельно)\n",
    "\n",
    "IDCG должен считаться для всех 8 позиций рекомендаций"
   ]
  },
  {
   "cell_type": "code",
   "execution_count": 16,
   "metadata": {},
   "outputs": [],
   "source": [
    "boughted = [1, 3, 5, 7, 9, 11]  \n",
    "recommended = [2, 5, 7, 4, 11, 9, 8, 10, 12, 3]"
   ]
  },
  {
   "cell_type": "code",
   "execution_count": 18,
   "metadata": {},
   "outputs": [
    {
     "data": {
      "text/plain": [
       "0.5"
      ]
     },
     "execution_count": 18,
     "metadata": {},
     "output_type": "execute_result"
    }
   ],
   "source": [
    "#pr@8:\n",
    "#ручной расчет:\n",
    "recommended_at_8=recommended[:8]\n",
    "pr_at_8_manual=(boughted[2]/boughted[2]+boughted[3]/boughted[3]+boughted[-2]/boughted[-2]+boughted[-1]/boughted[-1])/len(recommended_at_8)\n",
    "pr_at_8_manual"
   ]
  },
  {
   "cell_type": "code",
   "execution_count": 21,
   "metadata": {},
   "outputs": [],
   "source": [
    "#pr@8:\n",
    "#расчет функцией:\n",
    "def pr_at_8_func(recommended,boughted):\n",
    "    boughted=np.array(boughted)\n",
    "    recommended_at_8=np.array(recommended)[:8]\n",
    "    \n",
    "    included_into_list=np.isin(recommended_at_8,boughted)\n",
    "    \n",
    "    return np.sum(included_into_list)/len(recommended_at_8)"
   ]
  },
  {
   "cell_type": "code",
   "execution_count": 22,
   "metadata": {},
   "outputs": [
    {
     "data": {
      "text/plain": [
       "0.5"
      ]
     },
     "execution_count": 22,
     "metadata": {},
     "output_type": "execute_result"
    }
   ],
   "source": [
    "pr_at_8_func(recommended,boughted)"
   ]
  },
  {
   "cell_type": "code",
   "execution_count": 23,
   "metadata": {},
   "outputs": [
    {
     "data": {
      "text/plain": [
       "0.6666666666666666"
      ]
     },
     "execution_count": 23,
     "metadata": {},
     "output_type": "execute_result"
    }
   ],
   "source": [
    "#rec@8:\n",
    "#ручной расчет:\n",
    "rec_at_8_manual=(boughted[2]/boughted[2]+boughted[3]/boughted[3]+boughted[-2]/boughted[-2]+boughted[-1]/boughted[-1])/len(boughted)\n",
    "rec_at_8_manual"
   ]
  },
  {
   "cell_type": "code",
   "execution_count": 24,
   "metadata": {},
   "outputs": [],
   "source": [
    "#rec@8:\n",
    "#расчет функцией:\n",
    "def rec_at_8_func(recommended,boughted):\n",
    "    boughted=np.array(boughted)\n",
    "    recommended_at_8=np.array(recommended)[:8]\n",
    "    \n",
    "    included_into_list=np.isin(recommended_at_8,boughted)\n",
    "    \n",
    "    return np.sum(included_into_list)/len(boughted)"
   ]
  },
  {
   "cell_type": "code",
   "execution_count": 25,
   "metadata": {},
   "outputs": [
    {
     "data": {
      "text/plain": [
       "0.6666666666666666"
      ]
     },
     "execution_count": 25,
     "metadata": {},
     "output_type": "execute_result"
    }
   ],
   "source": [
    "rec_at_8_func(recommended,boughted)"
   ]
  },
  {
   "cell_type": "code",
   "execution_count": 26,
   "metadata": {},
   "outputs": [
    {
     "data": {
      "text/plain": [
       "0.30416666666666664"
      ]
     },
     "execution_count": 26,
     "metadata": {},
     "output_type": "execute_result"
    }
   ],
   "source": [
    "#AP@8:\n",
    "#ручной расчет:\n",
    "ap_at_8=(0*recommended_at_8[0]/len(recommended_at_8[:1])+1*(0+1)/len(recommended_at_8[:2])+1*(0+1+1)/len(recommended_at_8[:3])+0*(0+1+1+0)/len(recommended_at_8[:4])+1*(0+1+1+0+1)/len(recommended_at_8[:5])+1*(0+1+1+0+1+1)/len(recommended_at_8[:6])+0*(0+1+1+0+1+1+0)/len(recommended_at_8[:7])+0*(0+1+1+0+1+1+0+0)/len(recommended_at_8[:8]))/len(recommended_at_8)\n",
    "ap_at_8"
   ]
  },
  {
   "cell_type": "code",
   "execution_count": 27,
   "metadata": {},
   "outputs": [],
   "source": [
    "#AP@8:\n",
    "#расчет функцией:\n",
    "def ap_at_value(boughted,recommended,k):\n",
    "    boughted_inside=np.array(boughted)\n",
    "    recommended_inside=np.array(recommended)[:k]\n",
    "    \n",
    "    \n",
    "    def pr_at_value_func(recommended_in_in,boughted_in_in):\n",
    "        included_into_list=np.isin(recommended_in_in,boughted_in_in)\n",
    "        return np.sum(included_into_list)/len(recommended_in_in)\n",
    "    \n",
    "    sum_=0\n",
    "    \n",
    "    for element in enumerate(recommended_inside):\n",
    "        l=element[0]+1\n",
    "        pr=pr_at_value_func(recommended_inside[:l],boughted_inside)\n",
    "        if element[1] in boughted_inside:\n",
    "            sum_+=1*pr\n",
    "        else:\n",
    "            sum_+=0*pr\n",
    "    \n",
    "    return sum_/len(recommended_inside)"
   ]
  },
  {
   "cell_type": "code",
   "execution_count": 28,
   "metadata": {},
   "outputs": [
    {
     "data": {
      "text/plain": [
       "0.30416666666666664"
      ]
     },
     "execution_count": 28,
     "metadata": {},
     "output_type": "execute_result"
    }
   ],
   "source": [
    "ap_at_value(boughted,recommended,8)"
   ]
  },
  {
   "cell_type": "code",
   "execution_count": 29,
   "metadata": {},
   "outputs": [
    {
     "data": {
      "text/plain": [
       "0.5279127445637272"
      ]
     },
     "execution_count": 29,
     "metadata": {},
     "output_type": "execute_result"
    }
   ],
   "source": [
    "#NDCG@8:\n",
    "#ручной расчет:\n",
    "NDCG_at_8_manual=(1/len(recommended[:8])*(0+1/np.log2(2)+1/np.log2(3)+0/np.log2(4)+1/np.log2(5)+1/np.log2(6)+0/np.log2(7)+0/np.log2(8)))/(1/len(recommended[:8])*(1+1/np.log2(2)+1/np.log2(3)+1/np.log2(4)+1/np.log2(5)+1/np.log2(6)+1/np.log2(7)+1/np.log2(8)))\n",
    "NDCG_at_8_manual"
   ]
  },
  {
   "cell_type": "code",
   "execution_count": 30,
   "metadata": {},
   "outputs": [],
   "source": [
    "#NDCG@8:\n",
    "#расчет функцией:\n",
    "def ndcg_at_value(boughted,recommended,k):\n",
    "    boughted_inside=np.array(boughted)\n",
    "    recommended_inside=np.array(recommended)[:k]\n",
    "    \n",
    "    included_into_list=np.isin(recommended_inside,boughted_inside)\n",
    "    \n",
    "    def dcg(list_):\n",
    "        sum_=0\n",
    "        for element in enumerate(list_):\n",
    "            if element[1]:\n",
    "                if element[0]+1==1:\n",
    "                    sum_+=1\n",
    "                else:\n",
    "                    sum_+=1/np.log2(element[0]+1)\n",
    "            else:\n",
    "                continue   \n",
    "        return sum_/len(list_)\n",
    "    \n",
    "    \n",
    "    def ideal_dcg(list_):\n",
    "        sum_=0\n",
    "        ideal_list=['True']*len(list_)\n",
    "        for element in enumerate(list_):\n",
    "                if element[0]+1==1:\n",
    "                    sum_+=1\n",
    "                else:\n",
    "                    sum_+=1/np.log2(element[0]+1)\n",
    "                \n",
    "        return sum_/len(list_)\n",
    "    \n",
    "    ndcg=dcg(included_into_list)/ideal_dcg(included_into_list)\n",
    "    \n",
    "    return ndcg"
   ]
  },
  {
   "cell_type": "code",
   "execution_count": 31,
   "metadata": {},
   "outputs": [
    {
     "data": {
      "text/plain": [
       "0.5279127445637272"
      ]
     },
     "execution_count": 31,
     "metadata": {},
     "output_type": "execute_result"
    }
   ],
   "source": [
    "ndcg_at_value(boughted,recommended,8)"
   ]
  },
  {
   "cell_type": "code",
   "execution_count": 32,
   "metadata": {},
   "outputs": [
    {
     "data": {
      "text/plain": [
       "0.15"
      ]
     },
     "execution_count": 32,
     "metadata": {},
     "output_type": "execute_result"
    }
   ],
   "source": [
    "#MRR@8:\n",
    "#ручной расчет:\n",
    "mean_reciprocal_rank_at_8_manual=(1/(recommended[:8].index(recommended[:8][1])+1)+1/(recommended[:8].index(recommended[:8][2])+1)+1/(recommended[:8].index(recommended[:8][4])+1)+1/(recommended[:8].index(recommended[:8][5])+1))/len(recommended[:8])\n",
    "mean_reciprocal_rank_at_8_manual"
   ]
  },
  {
   "cell_type": "code",
   "execution_count": 33,
   "metadata": {},
   "outputs": [],
   "source": [
    "#MRR@8:\n",
    "#расчет функцией:\n",
    "def mean_reciprocal_rank(recommended_list, bought_list,k):\n",
    "    ranks=0.\n",
    "    for i, item_rec in enumerate(recommended_list[:k]):\n",
    "        for item_bought in bought_list:\n",
    "            if item_rec == item_bought:\n",
    "                ranks += 1 / (i+1)\n",
    "    return ranks / len(recommended_list[:k])"
   ]
  },
  {
   "cell_type": "code",
   "execution_count": 34,
   "metadata": {},
   "outputs": [
    {
     "data": {
      "text/plain": [
       "0.15"
      ]
     },
     "execution_count": 34,
     "metadata": {},
     "output_type": "execute_result"
    }
   ],
   "source": [
    "mean_reciprocal_rank(recommended,boughted,8)"
   ]
  }
 ],
 "metadata": {
  "kernelspec": {
   "display_name": "Python 3",
   "language": "python",
   "name": "python3"
  },
  "language_info": {
   "codemirror_mode": {
    "name": "ipython",
    "version": 3
   },
   "file_extension": ".py",
   "mimetype": "text/x-python",
   "name": "python",
   "nbconvert_exporter": "python",
   "pygments_lexer": "ipython3",
   "version": "3.7.4"
  }
 },
 "nbformat": 4,
 "nbformat_minor": 2
}
